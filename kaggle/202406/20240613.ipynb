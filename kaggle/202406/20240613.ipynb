{
 "cells": [
  {
   "cell_type": "code",
   "id": "initial_id",
   "metadata": {
    "collapsed": true,
    "ExecuteTime": {
     "end_time": "2024-06-13T14:17:17.385039Z",
     "start_time": "2024-06-13T14:17:15.836071Z"
    }
   },
   "source": [
    "import numpy as np\n",
    "import matplotlib.pyplot as plt"
   ],
   "outputs": [],
   "execution_count": 5
  },
  {
   "metadata": {
    "ExecuteTime": {
     "end_time": "2024-06-13T14:18:02.536979Z",
     "start_time": "2024-06-13T14:18:02.532131Z"
    }
   },
   "cell_type": "code",
   "source": [
    "import os\n",
    "print(os.listdir(\"./input\"))"
   ],
   "id": "d3f43c5089ec1761",
   "outputs": [
    {
     "name": "stdout",
     "output_type": "stream",
     "text": [
      "[]\n"
     ]
    }
   ],
   "execution_count": 7
  },
  {
   "metadata": {
    "ExecuteTime": {
     "end_time": "2024-06-13T14:18:54.548733Z",
     "start_time": "2024-06-13T14:18:54.544009Z"
    }
   },
   "cell_type": "code",
   "source": "array = [[1,2,3],[4,5,6]]",
   "id": "bc077ecd579778c2",
   "outputs": [],
   "execution_count": 8
  },
  {
   "metadata": {
    "ExecuteTime": {
     "end_time": "2024-06-13T14:19:06.466310Z",
     "start_time": "2024-06-13T14:19:06.462908Z"
    }
   },
   "cell_type": "code",
   "source": "first_array = np.array(array)",
   "id": "14556fd714f2ca34",
   "outputs": [],
   "execution_count": 9
  },
  {
   "metadata": {
    "ExecuteTime": {
     "end_time": "2024-06-13T14:20:45.939447Z",
     "start_time": "2024-06-13T14:20:45.934131Z"
    }
   },
   "cell_type": "code",
   "source": [
    "print(\"Array Type : {}\".format(type(first_array)))\n",
    "print(f\"Array Type : {np.shape(first_array)}\")\n",
    "print(first_array)"
   ],
   "id": "c77751b4cd59fb4a",
   "outputs": [
    {
     "name": "stdout",
     "output_type": "stream",
     "text": [
      "Array Type : <class 'numpy.ndarray'>\n",
      "Array Type : (2, 3)\n",
      "[[1 2 3]\n",
      " [4 5 6]]\n"
     ]
    }
   ],
   "execution_count": 13
  },
  {
   "metadata": {
    "ExecuteTime": {
     "end_time": "2024-06-13T14:21:26.081486Z",
     "start_time": "2024-06-13T14:21:26.078133Z"
    }
   },
   "cell_type": "code",
   "source": "import torch",
   "id": "8a8ab8fd69f314ec",
   "outputs": [],
   "execution_count": 15
  },
  {
   "metadata": {
    "ExecuteTime": {
     "end_time": "2024-06-13T14:21:39.590167Z",
     "start_time": "2024-06-13T14:21:39.586019Z"
    }
   },
   "cell_type": "code",
   "source": "tensor = torch.Tensor(array)",
   "id": "bdc71c38a4f6920d",
   "outputs": [],
   "execution_count": 16
  },
  {
   "metadata": {
    "ExecuteTime": {
     "end_time": "2024-06-13T14:22:37.276868Z",
     "start_time": "2024-06-13T14:22:37.268981Z"
    }
   },
   "cell_type": "code",
   "source": [
    "print(f\"Array Type :{tensor.type}\")\n",
    "print(f\"Array Type : {tensor.shape}\")\n",
    "print(tensor)"
   ],
   "id": "b6f0f437c47b3c33",
   "outputs": [
    {
     "name": "stdout",
     "output_type": "stream",
     "text": [
      "Array Type :<built-in method type of Tensor object at 0x7f83ceeca8e0>\n",
      "Array Type : torch.Size([2, 3])\n",
      "tensor([[1., 2., 3.],\n",
      "        [4., 5., 6.]])\n"
     ]
    }
   ],
   "execution_count": 18
  },
  {
   "metadata": {
    "ExecuteTime": {
     "end_time": "2024-06-13T14:24:01.205662Z",
     "start_time": "2024-06-13T14:24:01.197996Z"
    }
   },
   "cell_type": "code",
   "source": [
    "# 서로 같다\n",
    "print(np.ones([2,2]))\n",
    "print(torch.ones(size=[3,3]))"
   ],
   "id": "a85ce4e56b41b714",
   "outputs": [
    {
     "name": "stdout",
     "output_type": "stream",
     "text": [
      "[[1. 1.]\n",
      " [1. 1.]]\n",
      "tensor([[1., 1., 1.],\n",
      "        [1., 1., 1.],\n",
      "        [1., 1., 1.]])\n"
     ]
    }
   ],
   "execution_count": 23
  },
  {
   "metadata": {
    "ExecuteTime": {
     "end_time": "2024-06-13T14:26:02.269028Z",
     "start_time": "2024-06-13T14:26:02.262665Z"
    }
   },
   "cell_type": "code",
   "source": [
    "print(np.random.rand(2,3))\n",
    "print(torch.rand(size=[2,2]))"
   ],
   "id": "dd1206014994e108",
   "outputs": [
    {
     "name": "stdout",
     "output_type": "stream",
     "text": [
      "[[0.4870596  0.852293   0.97817674]\n",
      " [0.27853167 0.44107115 0.1582611 ]]\n",
      "tensor([[0.6591, 0.4707],\n",
      "        [0.5280, 0.4587]])\n"
     ]
    }
   ],
   "execution_count": 27
  },
  {
   "metadata": {
    "ExecuteTime": {
     "end_time": "2024-06-13T14:28:43.216101Z",
     "start_time": "2024-06-13T14:28:43.212147Z"
    }
   },
   "cell_type": "code",
   "source": [
    "array = np.random.rand(2,2)\n",
    "print(f\"{type(array)}\\n {array}\\n\")"
   ],
   "id": "ef9cffec4d790d9d",
   "outputs": [
    {
     "name": "stdout",
     "output_type": "stream",
     "text": [
      "<class 'numpy.ndarray'>\n",
      " [[0.62303842 0.20937291]\n",
      " [0.40901841 0.68683478]]\n",
      "\n"
     ]
    }
   ],
   "execution_count": 30
  },
  {
   "metadata": {
    "ExecuteTime": {
     "end_time": "2024-06-13T14:28:22.538219Z",
     "start_time": "2024-06-13T14:28:22.530246Z"
    }
   },
   "cell_type": "code",
   "source": [
    "from_numpy_to_tensor = torch.from_numpy(array)\n",
    "print(f\"{from_numpy_to_tensor}\")"
   ],
   "id": "c9850b4b8df161d0",
   "outputs": [
    {
     "name": "stdout",
     "output_type": "stream",
     "text": [
      "tensor([[0.3181, 0.9543],\n",
      "        [0.5044, 0.0937]], dtype=torch.float64)\n"
     ]
    }
   ],
   "execution_count": 29
  },
  {
   "metadata": {
    "ExecuteTime": {
     "end_time": "2024-06-13T14:29:48.827540Z",
     "start_time": "2024-06-13T14:29:48.823785Z"
    }
   },
   "cell_type": "code",
   "source": [
    "tensor = from_numpy_to_tensor\n",
    "from_tensor_to_numpy = tensor.numpy()\n",
    "print(f\"{type(from_tensor_to_numpy)}\\n{from_tensor_to_numpy}\")"
   ],
   "id": "72f87022981aa71e",
   "outputs": [
    {
     "name": "stdout",
     "output_type": "stream",
     "text": [
      "<class 'numpy.ndarray'>\n",
      "[[0.31805498 0.95434311]\n",
      " [0.50436402 0.09365292]]\n"
     ]
    }
   ],
   "execution_count": 31
  },
  {
   "metadata": {
    "ExecuteTime": {
     "end_time": "2024-06-13T14:30:35.093746Z",
     "start_time": "2024-06-13T14:30:35.088532Z"
    }
   },
   "cell_type": "code",
   "source": [
    "#create tensor\n",
    "tensor = torch.ones(3,3)"
   ],
   "id": "a4968ce7e3822263",
   "outputs": [],
   "execution_count": 32
  },
  {
   "metadata": {
    "ExecuteTime": {
     "end_time": "2024-06-13T14:30:42.521261Z",
     "start_time": "2024-06-13T14:30:42.516576Z"
    }
   },
   "cell_type": "code",
   "source": "print(tensor)",
   "id": "a7ddb65f325f7393",
   "outputs": [
    {
     "name": "stdout",
     "output_type": "stream",
     "text": [
      "tensor([[1., 1., 1.],\n",
      "        [1., 1., 1.],\n",
      "        [1., 1., 1.]])\n"
     ]
    }
   ],
   "execution_count": 33
  },
  {
   "metadata": {
    "ExecuteTime": {
     "end_time": "2024-06-13T14:31:37.844046Z",
     "start_time": "2024-06-13T14:31:37.838847Z"
    }
   },
   "cell_type": "code",
   "source": "print(f\"{tensor.view(9).shape}\\n{tensor.view(9)}\")",
   "id": "babe533ed4323f83",
   "outputs": [
    {
     "name": "stdout",
     "output_type": "stream",
     "text": [
      "torch.Size([9])\n",
      "tensor([1., 1., 1., 1., 1., 1., 1., 1., 1.])\n"
     ]
    }
   ],
   "execution_count": 34
  },
  {
   "metadata": {
    "ExecuteTime": {
     "end_time": "2024-06-13T14:34:03.357201Z",
     "start_time": "2024-06-13T14:34:03.351838Z"
    }
   },
   "cell_type": "code",
   "source": "print(f\"Addition: {torch.add(tensor,tensor)}\")",
   "id": "ba93595447c7b26d",
   "outputs": [
    {
     "name": "stdout",
     "output_type": "stream",
     "text": [
      "Addition: tensor([[2., 2., 2.],\n",
      "        [2., 2., 2.],\n",
      "        [2., 2., 2.]])\n"
     ]
    }
   ],
   "execution_count": 39
  },
  {
   "metadata": {
    "ExecuteTime": {
     "end_time": "2024-06-13T14:34:38.984503Z",
     "start_time": "2024-06-13T14:34:38.980244Z"
    }
   },
   "cell_type": "code",
   "source": "print(f\"Subtraction : {tensor.sub(tensor)}\")",
   "id": "911013e26ff8ecac",
   "outputs": [
    {
     "name": "stdout",
     "output_type": "stream",
     "text": [
      "Subtraction : tensor([[0., 0., 0.],\n",
      "        [0., 0., 0.],\n",
      "        [0., 0., 0.]])\n"
     ]
    }
   ],
   "execution_count": 40
  },
  {
   "metadata": {
    "ExecuteTime": {
     "end_time": "2024-06-13T14:35:28.574996Z",
     "start_time": "2024-06-13T14:35:28.569431Z"
    }
   },
   "cell_type": "code",
   "source": "print(f\"Element wise multiplication : {torch.mul(tensor,tensor)}\")",
   "id": "d2b4bbe6f7989fa0",
   "outputs": [
    {
     "name": "stdout",
     "output_type": "stream",
     "text": [
      "Element wise multiplication : tensor([[1., 1., 1.],\n",
      "        [1., 1., 1.],\n",
      "        [1., 1., 1.]])\n"
     ]
    }
   ],
   "execution_count": 41
  },
  {
   "metadata": {
    "ExecuteTime": {
     "end_time": "2024-06-13T14:36:08.795734Z",
     "start_time": "2024-06-13T14:36:08.789402Z"
    }
   },
   "cell_type": "code",
   "source": "print(f\"Element wise division : {torch.div(tensor,tensor)}\")",
   "id": "c5b51c94e8c070ca",
   "outputs": [
    {
     "name": "stdout",
     "output_type": "stream",
     "text": [
      "Element wise division : tensor([[1., 1., 1.],\n",
      "        [1., 1., 1.],\n",
      "        [1., 1., 1.]])\n"
     ]
    }
   ],
   "execution_count": 42
  },
  {
   "metadata": {
    "ExecuteTime": {
     "end_time": "2024-06-13T14:36:38.518048Z",
     "start_time": "2024-06-13T14:36:38.513533Z"
    }
   },
   "cell_type": "code",
   "source": [
    "tensor = torch.Tensor([1,2,3,4,5])\n",
    "print(f\"Mean {tensor.mean()}\")"
   ],
   "id": "b6e3a870d13d0575",
   "outputs": [
    {
     "name": "stdout",
     "output_type": "stream",
     "text": [
      "Mean 3.0\n"
     ]
    }
   ],
   "execution_count": 43
  },
  {
   "metadata": {
    "ExecuteTime": {
     "end_time": "2024-06-13T14:37:05.179861Z",
     "start_time": "2024-06-13T14:37:05.176382Z"
    }
   },
   "cell_type": "code",
   "source": "print(f\"std : {tensor.std()}\")",
   "id": "1abd6c9f87ce92bb",
   "outputs": [
    {
     "name": "stdout",
     "output_type": "stream",
     "text": [
      "std : 1.5811388492584229\n"
     ]
    }
   ],
   "execution_count": 45
  },
  {
   "metadata": {
    "ExecuteTime": {
     "end_time": "2024-06-13T14:37:50.953548Z",
     "start_time": "2024-06-13T14:37:50.949945Z"
    }
   },
   "cell_type": "code",
   "source": "from torch.autograd import Variable",
   "id": "e9429bd8a25a2ba5",
   "outputs": [],
   "execution_count": 46
  },
  {
   "metadata": {
    "ExecuteTime": {
     "end_time": "2024-06-13T14:38:19.367810Z",
     "start_time": "2024-06-13T14:38:19.361027Z"
    }
   },
   "cell_type": "code",
   "source": [
    "var = Variable(torch.ones(3), requires_grad=True)\n",
    "var"
   ],
   "id": "8760c5f05e58c5b2",
   "outputs": [
    {
     "data": {
      "text/plain": [
       "tensor([1., 1., 1.], requires_grad=True)"
      ]
     },
     "execution_count": 47,
     "metadata": {},
     "output_type": "execute_result"
    }
   ],
   "execution_count": 47
  },
  {
   "metadata": {
    "ExecuteTime": {
     "end_time": "2024-06-13T14:40:19.735812Z",
     "start_time": "2024-06-13T14:40:19.730266Z"
    }
   },
   "cell_type": "code",
   "source": [
    "# we have an equation that is y=x^2\n",
    "array = [2,4]\n",
    "tensor = torch.Tensor(array)\n",
    "x = Variable(tensor, requires_grad = True)\n",
    "y = x**2\n",
    "print(y)"
   ],
   "id": "f486d77a71473bfc",
   "outputs": [
    {
     "name": "stdout",
     "output_type": "stream",
     "text": [
      "tensor([ 4., 16.], grad_fn=<PowBackward0>)\n"
     ]
    }
   ],
   "execution_count": 48
  },
  {
   "metadata": {
    "ExecuteTime": {
     "end_time": "2024-06-13T14:41:25.718882Z",
     "start_time": "2024-06-13T14:41:25.714262Z"
    }
   },
   "cell_type": "code",
   "source": [
    "o = (1/2)*sum(y)\n",
    "print(o)\n",
    "# [4,16] 4+16 /2 =10"
   ],
   "id": "bdb676bac7ad1ffd",
   "outputs": [
    {
     "name": "stdout",
     "output_type": "stream",
     "text": [
      "tensor(10., grad_fn=<MulBackward0>)\n"
     ]
    }
   ],
   "execution_count": 50
  },
  {
   "metadata": {
    "ExecuteTime": {
     "end_time": "2024-06-13T14:41:34.862433Z",
     "start_time": "2024-06-13T14:41:34.858331Z"
    }
   },
   "cell_type": "code",
   "source": "o.backward()",
   "id": "7ef894295be18806",
   "outputs": [],
   "execution_count": 51
  },
  {
   "metadata": {
    "ExecuteTime": {
     "end_time": "2024-06-13T14:41:56.933409Z",
     "start_time": "2024-06-13T14:41:56.928485Z"
    }
   },
   "cell_type": "code",
   "source": "print(\"gradients\",x.grad)",
   "id": "c665e14606960a0",
   "outputs": [
    {
     "name": "stdout",
     "output_type": "stream",
     "text": [
      "gradients tensor([2., 4.])\n"
     ]
    }
   ],
   "execution_count": 52
  },
  {
   "metadata": {
    "ExecuteTime": {
     "end_time": "2024-06-13T14:44:01.122954Z",
     "start_time": "2024-06-13T14:44:01.119282Z"
    }
   },
   "cell_type": "code",
   "source": [
    "car_price_array = [3,4,5,6,7,8,9]\n",
    "car_price_np = np.array(car_price_array,dtype=np.float32)\n",
    "car_price_np = car_price_np.reshape((-1,1))\n",
    "car_price_tensor = Variable(torch.from_numpy(car_price_np))"
   ],
   "id": "d8709abf7fca2767",
   "outputs": [],
   "execution_count": 53
  },
  {
   "metadata": {
    "ExecuteTime": {
     "end_time": "2024-06-13T14:44:10.047684Z",
     "start_time": "2024-06-13T14:44:10.042754Z"
    }
   },
   "cell_type": "code",
   "source": "print(car_price_np)",
   "id": "aaf061436d312348",
   "outputs": [
    {
     "name": "stdout",
     "output_type": "stream",
     "text": [
      "[[3.]\n",
      " [4.]\n",
      " [5.]\n",
      " [6.]\n",
      " [7.]\n",
      " [8.]\n",
      " [9.]]\n"
     ]
    }
   ],
   "execution_count": 54
  },
  {
   "metadata": {
    "ExecuteTime": {
     "end_time": "2024-06-13T14:47:33.854932Z",
     "start_time": "2024-06-13T14:47:33.850227Z"
    }
   },
   "cell_type": "code",
   "source": [
    "number_of_car_sell_array = [7.5,7,6.5,6.0,5.5,5.0,4.5]\n",
    "number_of_car_sell_np = np.array(number_of_car_sell_array,dtype=np.float32)\n",
    "number_of_car_sell_np = number_of_car_sell_np.reshape(-1,1)\n",
    "number_of_car_sell_tensor = torch.Tensor(number_of_car_sell_np)\n"
   ],
   "id": "64d969bceb9e25b7",
   "outputs": [],
   "execution_count": 57
  },
  {
   "metadata": {
    "ExecuteTime": {
     "end_time": "2024-06-13T14:49:27.092717Z",
     "start_time": "2024-06-13T14:49:26.878969Z"
    }
   },
   "cell_type": "code",
   "source": [
    "import matplotlib.pyplot as plt\n",
    "plt.scatter(car_price_array, number_of_car_sell_array)\n",
    "plt.xlabel(\"Car price $\")\n",
    "plt.ylabel(\"Number of Car Sell\")\n",
    "plt.title(\"Car Price $ vs Number of Car Sell\")\n",
    "plt.show()"
   ],
   "id": "573ad72ee581d451",
   "outputs": [
    {
     "data": {
      "text/plain": [
       "<Figure size 640x480 with 1 Axes>"
      ],
      "image/png": "[encoded data removed]"
     },
     "metadata": {},
     "output_type": "display_data"
    }
   ],
   "execution_count": 58
  },
  {
   "metadata": {
    "ExecuteTime": {
     "end_time": "2024-06-13T14:50:59.588206Z",
     "start_time": "2024-06-13T14:50:59.583843Z"
    }
   },
   "cell_type": "code",
   "source": [
    "# linear Regression\n",
    "import torch\n",
    "from torch.autograd import Variable\n",
    "import torch.nn as nn\n",
    "import warnings\n",
    "warnings.filterwarnings(\"ignore\")"
   ],
   "id": "437af97ee230fda5",
   "outputs": [],
   "execution_count": 59
  },
  {
   "metadata": {
    "ExecuteTime": {
     "end_time": "2024-06-13T15:02:50.181554Z",
     "start_time": "2024-06-13T15:02:47.741303Z"
    }
   },
   "cell_type": "code",
   "source": [
    "class LinearRegression(nn.Module):\n",
    "    def __init__(self,input_size,output_size):\n",
    "        super(LinearRegression,self).__init__()\n",
    "        self.linear = nn.Linear(input_dim,output_dim)\n",
    "    def forward(self,x):\n",
    "        return self.linear(x)\n",
    "    \n",
    "input_dim = 1\n",
    "output_dim = 1\n",
    "model = LinearRegression(input_dim,output_dim)\n",
    "\n",
    "mse = nn.MSELoss()\n",
    "\n",
    "learning_rate = 0.02\n",
    "optimizer = torch.optim.Adam(model.parameters(),lr=learning_rate)\n",
    "loss_list = []\n",
    "iteration_number = 1001\n",
    "for iteration in range(iteration_number):\n",
    "    optimizer.zero_grad()\n",
    "    results = model(car_price_tensor)\n",
    "    \n",
    "    loss = mse(results,number_of_car_sell_tensor)\n",
    "    \n",
    "    loss.backward()\n",
    "    \n",
    "    optimizer.step()\n",
    "    \n",
    "    loss_list.append(loss.data)\n",
    "    \n",
    "    if (iteration % 50 == 0):\n",
    "        print(f\"epoch {iteration}, loss {loss.data}\")\n",
    "\n",
    "plt.plot(range(iteration_number),loss_list)\n",
    "plt.xlabel(\"Number of Iterations\")\n",
    "plt.ylabel(\"Loss\")\n",
    "plt.show()"
   ],
   "id": "51ac40df24c48c0a",
   "outputs": [
    {
     "name": "stdout",
     "output_type": "stream",
     "text": [
      "epoch 0, loss 8.105877876281738\n",
      "epoch 50, loss 6.124800205230713\n",
      "epoch 100, loss 4.74393367767334\n",
      "epoch 150, loss 3.614898443222046\n",
      "epoch 200, loss 2.707130193710327\n",
      "epoch 250, loss 1.9900509119033813\n",
      "epoch 300, loss 1.4343205690383911\n",
      "epoch 350, loss 1.0124043226242065\n",
      "epoch 400, loss 0.6990566253662109\n",
      "epoch 450, loss 0.4717143476009369\n",
      "epoch 500, loss 0.3107803165912628\n",
      "epoch 550, loss 0.19974635541439056\n",
      "epoch 600, loss 0.12515245378017426\n",
      "epoch 650, loss 0.07639360427856445\n",
      "epoch 700, loss 0.045403506606817245\n",
      "epoch 750, loss 0.026261404156684875\n",
      "epoch 800, loss 0.014775415882468224\n",
      "epoch 850, loss 0.008082887157797813\n",
      "epoch 900, loss 0.004297283012419939\n",
      "epoch 950, loss 0.0022193975746631622\n",
      "epoch 1000, loss 0.0011129931081086397\n"
     ]
    },
    {
     "data": {
      "text/plain": [
       "<Figure size 640x480 with 1 Axes>"
      ],
      "image/png": "[encoded data removed]"
     },
     "metadata": {},
     "output_type": "display_data"
    }
   ],
   "execution_count": 62
  },
  {
   "metadata": {},
   "cell_type": "code",
   "outputs": [],
   "execution_count": null,
   "source": "",
   "id": "5501cac43d008153"
  }
 ],
 "metadata": {
  "kernelspec": {
   "display_name": "Python 3",
   "language": "python",
   "name": "python3"
  },
  "language_info": {
   "codemirror_mode": {
    "name": "ipython",
    "version": 2
   },
   "file_extension": ".py",
   "mimetype": "text/x-python",
   "name": "python",
   "nbconvert_exporter": "python",
   "pygments_lexer": "ipython2",
   "version": "2.7.6"
  }
 },
 "nbformat": 4,
 "nbformat_minor": 5
}
